{
 "cells": [
  {
   "cell_type": "code",
   "execution_count": null,
   "id": "232dc96c",
   "metadata": {},
   "outputs": [
    {
     "name": "stdout",
     "output_type": "stream",
     "text": [
      "Latest dust value: 53.02 ug/m3\n",
      "Number of measurements: 34\n"
     ]
    },
    {
     "data": {
      "text/plain": [
       "<matplotlib.figure.Figure at 0x7f8abd8470>"
      ]
     },
     "metadata": {},
     "output_type": "display_data"
    }
   ],
   "source": [
    "import serial\n",
    "import time\n",
    "import pandas as pd\n",
    "import matplotlib.pyplot as plt\n",
    "from IPython.display import clear_output\n",
    "\n",
    "# 시리얼 연결\n",
    "ser = serial.Serial('/dev/ttyUSB0', 9600, timeout=1)\n",
    "time.sleep(2)\n",
    "\n",
    "# 데이터 저장용\n",
    "dust_values = []\n",
    "timestamps = []\n",
    "\n",
    "try:\n",
    "    print(\"Starting measurements...\")\n",
    "    while True:\n",
    "        if ser.in_waiting:\n",
    "            line = ser.readline().decode('utf-8').strip()\n",
    "            \n",
    "            # dust 값만 찾아서 처리\n",
    "            if \"dust = \" in line and \"ug/m3\" in line:\n",
    "                try:\n",
    "                    dust_str = line.split(\"dust = \")[1].split(\" ug/m3\")[0]\n",
    "                    dust_value = float(dust_str)\n",
    "                    dust_values.append(dust_value)\n",
    "                    timestamps.append(time.time())\n",
    "                    \n",
    "                    # 현재까지의 데이터 시각화\n",
    "                    clear_output(wait=True)\n",
    "                    print(f\"Latest dust value: {dust_value:.2f} ug/m3\")\n",
    "                    print(f\"Number of measurements: {len(dust_values)}\")\n",
    "                    \n",
    "                    plt.figure(figsize=(10, 6))\n",
    "                    plt.plot(dust_values, 'b.-')\n",
    "                    plt.title('Dust Measurements')\n",
    "                    plt.xlabel('Sample Number')\n",
    "                    plt.ylabel('Dust (µg/m³)')\n",
    "                    plt.grid(True)\n",
    "                    plt.show()\n",
    "                    \n",
    "                except ValueError as e:\n",
    "                    print(f\"Error parsing dust value: {e}\")\n",
    "            \n",
    "except KeyboardInterrupt:\n",
    "    print(\"\\nMeasurement stopped by user\")\n",
    "    \n",
    "finally:\n",
    "    ser.close()\n",
    "    if dust_values:\n",
    "        df = pd.DataFrame({\n",
    "            'timestamp': timestamps,\n",
    "            'dust': dust_values\n",
    "        })\n",
    "        print(\"\\nMeasurement Statistics:\")\n",
    "        print(df.describe())"
   ]
  },
  {
   "cell_type": "code",
   "execution_count": null,
   "id": "6be50641",
   "metadata": {},
   "outputs": [],
   "source": []
  }
 ],
 "metadata": {
  "kernelspec": {
   "display_name": "Python 3",
   "language": "python",
   "name": "python3"
  },
  "language_info": {
   "codemirror_mode": {
    "name": "ipython",
    "version": 3
   },
   "file_extension": ".py",
   "mimetype": "text/x-python",
   "name": "python",
   "nbconvert_exporter": "python",
   "pygments_lexer": "ipython3",
   "version": "3.6.9"
  }
 },
 "nbformat": 4,
 "nbformat_minor": 5
}
